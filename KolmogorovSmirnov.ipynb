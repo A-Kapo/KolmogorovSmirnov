{
 "cells": [
  {
   "cell_type": "code",
   "execution_count": 1,
   "metadata": {
    "collapsed": true
   },
   "outputs": [],
   "source": [
    "import pandas as pd\n",
    "import numpy as np\n",
    "from math import *\n",
    "import matplotlib.pyplot as plt\n",
    "import random as rn\n",
    "%matplotlib inline"
   ]
  },
  {
   "cell_type": "code",
   "execution_count": 2,
   "metadata": {
    "collapsed": false
   },
   "outputs": [
    {
     "data": {
      "text/plain": [
       "44    12.466940\n",
       "32    12.977500\n",
       "11    13.062366\n",
       "6     14.189048\n",
       "21    14.373638\n",
       "55    15.084535\n",
       "46    16.089481\n",
       "45    16.939131\n",
       "48    17.177949\n",
       "57    17.345248\n",
       "50    18.187142\n",
       "63    18.226079\n",
       "62    18.509478\n",
       "28    20.104138\n",
       "49    20.304243\n",
       "37    20.638315\n",
       "8     20.879328\n",
       "61    21.032815\n",
       "68    21.447207\n",
       "35    22.199174\n",
       "7     24.470814\n",
       "4     24.788575\n",
       "1     24.838406\n",
       "64    25.035233\n",
       "16    25.248455\n",
       "51    26.703245\n",
       "3     27.255098\n",
       "17    28.068419\n",
       "43    30.595818\n",
       "40    31.672577\n",
       "        ...    \n",
       "24    35.597964\n",
       "18    36.262546\n",
       "14    37.287182\n",
       "5     37.377929\n",
       "9     38.314862\n",
       "20    38.555315\n",
       "53    39.913359\n",
       "56    39.941830\n",
       "52    40.801182\n",
       "2     41.702672\n",
       "39    41.845712\n",
       "54    41.965497\n",
       "12    42.233940\n",
       "15    42.276798\n",
       "41    42.390992\n",
       "27    43.242796\n",
       "30    43.454974\n",
       "13    43.853637\n",
       "10    44.093345\n",
       "65    44.672582\n",
       "33    45.173203\n",
       "66    45.480666\n",
       "59    46.830791\n",
       "58    47.443418\n",
       "42    48.281985\n",
       "34    48.433732\n",
       "29    48.865425\n",
       "19    48.953795\n",
       "47    49.437039\n",
       "31    49.657190\n",
       "Name: Data, dtype: float64"
      ]
     },
     "execution_count": 2,
     "metadata": {},
     "output_type": "execute_result"
    }
   ],
   "source": [
    "stuff = pd.read_csv('../CSV/smirnov.csv')\n",
    "x = stuff['Data'].sort_values()\n",
    "temptable = pd.DataFrame(x)\n",
    "temptable = temptable.set_index(np.arange(0,len(x),1))\n",
    "\n",
    "x"
   ]
  },
  {
   "cell_type": "code",
   "execution_count": 3,
   "metadata": {
    "collapsed": false
   },
   "outputs": [],
   "source": [
    "def get_empirical_and_index(array):\n",
    "    x = {}\n",
    "    for datapoint in array:\n",
    "        x[datapoint] = 0\n",
    "        \n",
    "    for datapoint in array:\n",
    "        x[datapoint] += 1\n",
    "    \n",
    "    F = np.zeros(len(x)+1)\n",
    "    i = 1\n",
    "    length = len(array)\n",
    "    for value in x:\n",
    "        F[i] = F[i-1] + x[value]/length\n",
    "        i += 1\n",
    "    \n",
    "    return F, list(x.keys())\n",
    "\n",
    "a1 = get_empirical_and_index(temptable['Data'])\n",
    "empF_left = pd.Series(a1[0][:-1])\n",
    "empF = pd.Series(a1[0][1:])\n",
    "uniqueValues = pd.Series(a1[1])\n",
    "length = len(uniqueValues)"
   ]
  },
  {
   "cell_type": "code",
   "execution_count": 4,
   "metadata": {
    "collapsed": false
   },
   "outputs": [
    {
     "data": {
      "text/html": [
       "<div>\n",
       "<table border=\"1\" class=\"dataframe\">\n",
       "  <thead>\n",
       "    <tr style=\"text-align: right;\">\n",
       "      <th></th>\n",
       "      <th>Data</th>\n",
       "      <th>Empir. F(x)</th>\n",
       "      <th>Empir. F(x-)</th>\n",
       "    </tr>\n",
       "  </thead>\n",
       "  <tbody>\n",
       "    <tr>\n",
       "      <th>0</th>\n",
       "      <td>12.466940</td>\n",
       "      <td>0.014493</td>\n",
       "      <td>0.000000</td>\n",
       "    </tr>\n",
       "    <tr>\n",
       "      <th>1</th>\n",
       "      <td>12.977500</td>\n",
       "      <td>0.028986</td>\n",
       "      <td>0.014493</td>\n",
       "    </tr>\n",
       "    <tr>\n",
       "      <th>2</th>\n",
       "      <td>13.062366</td>\n",
       "      <td>0.043478</td>\n",
       "      <td>0.028986</td>\n",
       "    </tr>\n",
       "    <tr>\n",
       "      <th>3</th>\n",
       "      <td>14.189048</td>\n",
       "      <td>0.057971</td>\n",
       "      <td>0.043478</td>\n",
       "    </tr>\n",
       "    <tr>\n",
       "      <th>4</th>\n",
       "      <td>14.373638</td>\n",
       "      <td>0.072464</td>\n",
       "      <td>0.057971</td>\n",
       "    </tr>\n",
       "  </tbody>\n",
       "</table>\n",
       "</div>"
      ],
      "text/plain": [
       "        Data  Empir. F(x)  Empir. F(x-)\n",
       "0  12.466940     0.014493      0.000000\n",
       "1  12.977500     0.028986      0.014493\n",
       "2  13.062366     0.043478      0.028986\n",
       "3  14.189048     0.057971      0.043478\n",
       "4  14.373638     0.072464      0.057971"
      ]
     },
     "execution_count": 4,
     "metadata": {},
     "output_type": "execute_result"
    }
   ],
   "source": [
    "table = pd.DataFrame({'Data' : uniqueValues, 'Empir. F(x-)' : empF_left, 'Empir. F(x)' : empF})\n",
    "table.head()"
   ]
  },
  {
   "cell_type": "code",
   "execution_count": 5,
   "metadata": {
    "collapsed": false
   },
   "outputs": [],
   "source": [
    "def testDistribution(x): #CDF\n",
    "    fx = (x-10)/40\n",
    "    return fx\n",
    "\n",
    "def get_test_distribution_values(): #String value for distr, use capital X for the data value\n",
    "    F = np.zeros(length)\n",
    "    i = 0\n",
    "    for value in uniqueValues:\n",
    "        F[i] = testDistribution(value)\n",
    "        i += 1\n",
    "        \n",
    "    return F\n",
    "\n",
    "F = pd.DataFrame({'F(x)' : get_test_distribution_values()})\n",
    "table = pd.DataFrame.merge(table, F, how='left', left_index = True, right_index = True)\n",
    "\n",
    "max_diff = []\n",
    "for i in range(len(table['Empir. F(x)'])):\n",
    "    max_diff.append(max(abs(table['Empir. F(x)'][i] - table['F(x)'][i]), abs(table['Empir. F(x-)'][i] - table['F(x)'][i])))\n",
    "    \n",
    "table['Max Diff.'] = pd.Series(max_diff)\n",
    "    \n",
    "test_statistic = max(table['Max Diff.'])"
   ]
  },
  {
   "cell_type": "code",
   "execution_count": 6,
   "metadata": {
    "collapsed": false
   },
   "outputs": [
    {
     "data": {
      "text/plain": [
       "0.14289679580434778"
      ]
     },
     "execution_count": 6,
     "metadata": {},
     "output_type": "execute_result"
    }
   ],
   "source": [
    "# The test_statistic is the maximum of the maximum differences \n",
    "# (between the distribution and the empirical) along each data point\n",
    "\n",
    "test_statistic"
   ]
  },
  {
   "cell_type": "code",
   "execution_count": 7,
   "metadata": {
    "collapsed": false
   },
   "outputs": [
    {
     "data": {
      "text/html": [
       "<div>\n",
       "<table border=\"1\" class=\"dataframe\">\n",
       "  <thead>\n",
       "    <tr style=\"text-align: right;\">\n",
       "      <th></th>\n",
       "      <th>Data</th>\n",
       "      <th>Empir. F(x)</th>\n",
       "      <th>Empir. F(x-)</th>\n",
       "      <th>F(x)</th>\n",
       "      <th>Max Diff.</th>\n",
       "    </tr>\n",
       "  </thead>\n",
       "  <tbody>\n",
       "    <tr>\n",
       "      <th>0</th>\n",
       "      <td>12.466940</td>\n",
       "      <td>0.014493</td>\n",
       "      <td>0.000000</td>\n",
       "      <td>0.061673</td>\n",
       "      <td>0.061673</td>\n",
       "    </tr>\n",
       "    <tr>\n",
       "      <th>1</th>\n",
       "      <td>12.977500</td>\n",
       "      <td>0.028986</td>\n",
       "      <td>0.014493</td>\n",
       "      <td>0.074437</td>\n",
       "      <td>0.059945</td>\n",
       "    </tr>\n",
       "    <tr>\n",
       "      <th>2</th>\n",
       "      <td>13.062366</td>\n",
       "      <td>0.043478</td>\n",
       "      <td>0.028986</td>\n",
       "      <td>0.076559</td>\n",
       "      <td>0.047574</td>\n",
       "    </tr>\n",
       "    <tr>\n",
       "      <th>3</th>\n",
       "      <td>14.189048</td>\n",
       "      <td>0.057971</td>\n",
       "      <td>0.043478</td>\n",
       "      <td>0.104726</td>\n",
       "      <td>0.061248</td>\n",
       "    </tr>\n",
       "    <tr>\n",
       "      <th>4</th>\n",
       "      <td>14.373638</td>\n",
       "      <td>0.072464</td>\n",
       "      <td>0.057971</td>\n",
       "      <td>0.109341</td>\n",
       "      <td>0.051370</td>\n",
       "    </tr>\n",
       "  </tbody>\n",
       "</table>\n",
       "</div>"
      ],
      "text/plain": [
       "        Data  Empir. F(x)  Empir. F(x-)      F(x)  Max Diff.\n",
       "0  12.466940     0.014493      0.000000  0.061673   0.061673\n",
       "1  12.977500     0.028986      0.014493  0.074437   0.059945\n",
       "2  13.062366     0.043478      0.028986  0.076559   0.047574\n",
       "3  14.189048     0.057971      0.043478  0.104726   0.061248\n",
       "4  14.373638     0.072464      0.057971  0.109341   0.051370"
      ]
     },
     "execution_count": 7,
     "metadata": {},
     "output_type": "execute_result"
    }
   ],
   "source": [
    "table.head()"
   ]
  },
  {
   "cell_type": "code",
   "execution_count": 35,
   "metadata": {
    "collapsed": false
   },
   "outputs": [
    {
     "name": "stdout",
     "output_type": "stream",
     "text": [
      "The chi-squared test statistic is:  3.3119392684610105\n"
     ]
    },
    {
     "data": {
      "text/plain": [
       "<Container object of 6 artists>"
      ]
     },
     "execution_count": 35,
     "metadata": {},
     "output_type": "execute_result"
    },
    {
     "data": {
      "image/png": "[encoded data removed]",
      "text/plain": [
       "<matplotlib.figure.Figure at 0x258c137c2e8>"
      ]
     },
     "metadata": {},
     "output_type": "display_data"
    }
   ],
   "source": [
    "def testDistribution(x): #CDF\n",
    "    fx = (x-10)/40\n",
    "    return fx\n",
    "\n",
    "\n",
    "# Choose arbitrary values, preferably ones which cause the \n",
    "# chi-squared term (chi_s) per group to be as invariant as possible \n",
    "chi_r = np.array([12,18,25,30,37,45,52])\n",
    "groups = len(chi_r)-1\n",
    "chi_s = np.zeros(groups)\n",
    "num_datapt = len(table['Data'])\n",
    "\n",
    "for i in range(groups):\n",
    "    observed = len(table[table['Data']>=chi_r[i]]['Data'])-len(table[table['Data']>chi_r[i+1]]['Data'])\n",
    "    expected = (testDistribution(chi_r[i+1])-testDistribution(chi_r[i]))*num_datapt\n",
    "    chi_s[i] = (1/expected)*(observed-expected)**2\n",
    "\n",
    "print('The chi-squared test statistic is: ', np.sum(chi_s))\n",
    "X = (chi_r[1:]+chi_r[:groups])/2\n",
    "Y = chi_s\n",
    "widths = np.delete((chi_r-chi_r[0]),0)\n",
    "\n",
    "plt.bar(X,Y,widths)\n",
    "\n",
    "# There is too much variance with the range values, \n",
    "# this test will not be as definitive with the group ranges as defined."
   ]
  }
 ],
 "metadata": {
  "kernelspec": {
   "display_name": "Python 3",
   "language": "python",
   "name": "python3"
  },
  "language_info": {
   "codemirror_mode": {
    "name": "ipython",
    "version": 3
   },
   "file_extension": ".py",
   "mimetype": "text/x-python",
   "name": "python",
   "nbconvert_exporter": "python",
   "pygments_lexer": "ipython3",
   "version": "3.6.0"
  }
 },
 "nbformat": 4,
 "nbformat_minor": 2
}
